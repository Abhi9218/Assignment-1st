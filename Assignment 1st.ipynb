{
 "cells": [
  {
   "cell_type": "markdown",
   "id": "8eedfca1-6254-49dd-bec6-086ec6648816",
   "metadata": {},
   "source": [
    "Que(1). Create one variable containing following type of data:\n",
    "     (i) String\n",
    "     (ii) list\n",
    "     (iii) float\n",
    "     (iv) tuple"
   ]
  },
  {
   "cell_type": "markdown",
   "id": "c88eb1b3-11ac-4914-82cc-406063914327",
   "metadata": {},
   "source": [
    "Ans=(i)String"
   ]
  },
  {
   "cell_type": "code",
   "execution_count": 21,
   "id": "296288c4-382e-4056-ab66-6263689b262f",
   "metadata": {},
   "outputs": [],
   "source": [
    "s=\"abhishek Prajapati\""
   ]
  },
  {
   "cell_type": "code",
   "execution_count": 22,
   "id": "94939489-75e3-420a-8691-b843307be42b",
   "metadata": {},
   "outputs": [
    {
     "data": {
      "text/plain": [
       "'abhishek Prajapati'"
      ]
     },
     "execution_count": 22,
     "metadata": {},
     "output_type": "execute_result"
    }
   ],
   "source": [
    "s"
   ]
  },
  {
   "cell_type": "code",
   "execution_count": 23,
   "id": "d004eba9-a44a-4e05-a585-405647247fd6",
   "metadata": {},
   "outputs": [
    {
     "data": {
      "text/plain": [
       "str"
      ]
     },
     "execution_count": 23,
     "metadata": {},
     "output_type": "execute_result"
    }
   ],
   "source": [
    "type(s)"
   ]
  },
  {
   "cell_type": "markdown",
   "id": "290040e8-619f-49c8-9a32-12b8f28059d6",
   "metadata": {},
   "source": [
    "Ans=(ii) list"
   ]
  },
  {
   "cell_type": "code",
   "execution_count": 24,
   "id": "e5f44e8c-40e8-457d-a58c-e93afb21e276",
   "metadata": {},
   "outputs": [],
   "source": [
    "l=[1,2,3,4,5,6,7,8,9,\"Amit\"]"
   ]
  },
  {
   "cell_type": "code",
   "execution_count": 25,
   "id": "430bc611-57f9-4d1c-a3fd-c71858feb617",
   "metadata": {},
   "outputs": [
    {
     "data": {
      "text/plain": [
       "list"
      ]
     },
     "execution_count": 25,
     "metadata": {},
     "output_type": "execute_result"
    }
   ],
   "source": [
    "type(l)"
   ]
  },
  {
   "cell_type": "markdown",
   "id": "e028cab6-e054-4315-8795-b757914ea089",
   "metadata": {},
   "source": [
    "Ans = (iii) float"
   ]
  },
  {
   "cell_type": "code",
   "execution_count": 28,
   "id": "36bd2ee3-9576-4b67-9216-126ebe0431bd",
   "metadata": {},
   "outputs": [],
   "source": [
    "f=2.3"
   ]
  },
  {
   "cell_type": "code",
   "execution_count": 29,
   "id": "4e2c511f-e4f8-4bda-80fa-126404c67a27",
   "metadata": {},
   "outputs": [
    {
     "data": {
      "text/plain": [
       "float"
      ]
     },
     "execution_count": 29,
     "metadata": {},
     "output_type": "execute_result"
    }
   ],
   "source": [
    "type(f)"
   ]
  },
  {
   "cell_type": "markdown",
   "id": "c630511b-3953-4e2c-b70f-7a6db147168f",
   "metadata": {},
   "source": [
    "Ans=(iv)tuple"
   ]
  },
  {
   "cell_type": "code",
   "execution_count": 30,
   "id": "ec7bfc71-1d40-49a8-98b8-7ba8339907f3",
   "metadata": {},
   "outputs": [],
   "source": [
    "t=(1,2,3,4,\"ram\",\"hanuman\")"
   ]
  },
  {
   "cell_type": "code",
   "execution_count": 31,
   "id": "066eaad3-9205-4214-88b6-2ebd1ca7030e",
   "metadata": {},
   "outputs": [
    {
     "data": {
      "text/plain": [
       "tuple"
      ]
     },
     "execution_count": 31,
     "metadata": {},
     "output_type": "execute_result"
    }
   ],
   "source": [
    "type(t)"
   ]
  },
  {
   "cell_type": "markdown",
   "id": "ce76a3f9-ce08-45f2-b063-f144cb51e444",
   "metadata": {},
   "source": [
    "Que(2).Given are some following variables containing data:\n",
    "\n",
    "    (i) var1 = ''\n",
    "    (ii) var2= '[Ds,ML,Python]'\n",
    "    (iii) var3= ['DS','ML','Python']\n",
    "    (iv) var4= 1.\n",
    "  What will be the data type of the above given variable."
   ]
  },
  {
   "cell_type": "markdown",
   "id": "b23b0d8b-fb7b-474d-9e78-b00098238efd",
   "metadata": {},
   "source": [
    "Ans(i) string"
   ]
  },
  {
   "cell_type": "code",
   "execution_count": 32,
   "id": "ab033d4e-13af-40bf-af6e-5bae587c481c",
   "metadata": {},
   "outputs": [],
   "source": [
    "var1=''"
   ]
  },
  {
   "cell_type": "code",
   "execution_count": 33,
   "id": "8ec1fab3-db07-41b6-abb7-22b7c8084ec6",
   "metadata": {},
   "outputs": [
    {
     "data": {
      "text/plain": [
       "str"
      ]
     },
     "execution_count": 33,
     "metadata": {},
     "output_type": "execute_result"
    }
   ],
   "source": [
    "type(var1)"
   ]
  },
  {
   "cell_type": "markdown",
   "id": "5ed69421-0b4e-4437-af83-921fc79fba8d",
   "metadata": {},
   "source": [
    "Ans(ii) string"
   ]
  },
  {
   "cell_type": "code",
   "execution_count": 35,
   "id": "fbabb4c2-e594-4930-af9b-3df6195c5751",
   "metadata": {},
   "outputs": [],
   "source": [
    "var2='[Ds,Ml,Python]'"
   ]
  },
  {
   "cell_type": "code",
   "execution_count": 36,
   "id": "1fcb2896-fd0f-4e34-b82f-0216146eb13f",
   "metadata": {},
   "outputs": [
    {
     "data": {
      "text/plain": [
       "str"
      ]
     },
     "execution_count": 36,
     "metadata": {},
     "output_type": "execute_result"
    }
   ],
   "source": [
    "type(var2)"
   ]
  },
  {
   "cell_type": "markdown",
   "id": "35c99938-f0c2-4fe4-8580-b12cbe8c263c",
   "metadata": {},
   "source": [
    "Ans(iii) list"
   ]
  },
  {
   "cell_type": "code",
   "execution_count": 37,
   "id": "30815c5a-7936-481d-9f57-c847ce98458d",
   "metadata": {},
   "outputs": [],
   "source": [
    "var3=['Ds','Ml','Python']"
   ]
  },
  {
   "cell_type": "code",
   "execution_count": 39,
   "id": "e90ada99-2e84-4702-b7a7-9c3a7349411b",
   "metadata": {},
   "outputs": [
    {
     "data": {
      "text/plain": [
       "list"
      ]
     },
     "execution_count": 39,
     "metadata": {},
     "output_type": "execute_result"
    }
   ],
   "source": [
    "type(var3)"
   ]
  },
  {
   "cell_type": "markdown",
   "id": "ca3aa468-293d-48b0-9ec9-c7094de23769",
   "metadata": {},
   "source": [
    "Ans(iv) float"
   ]
  },
  {
   "cell_type": "code",
   "execution_count": 40,
   "id": "5e469baa-a653-425e-92b0-9340a904549c",
   "metadata": {},
   "outputs": [],
   "source": [
    "var4=1."
   ]
  },
  {
   "cell_type": "code",
   "execution_count": 41,
   "id": "2ea0c1e6-330e-4119-b3ec-7f4fd2438569",
   "metadata": {},
   "outputs": [
    {
     "data": {
      "text/plain": [
       "float"
      ]
     },
     "execution_count": 41,
     "metadata": {},
     "output_type": "execute_result"
    }
   ],
   "source": [
    "type(var4)"
   ]
  },
  {
   "cell_type": "markdown",
   "id": "9f806152-2f6b-4b51-b3cf-747680bb7429",
   "metadata": {},
   "source": [
    "Que(3).Explain the use of the following operators using an example:\n",
    "\n",
    "    (i) /\n",
    "    (ii) %\n",
    "    (iii) //\n",
    "    (iv) **\n"
   ]
  },
  {
   "cell_type": "raw",
   "id": "23af90c3-051b-4b33-88e2-d8d9c06a6ce4",
   "metadata": {},
   "source": [
    "Que(i) /"
   ]
  },
  {
   "cell_type": "markdown",
   "id": "b37d2814-8c37-4f07-9aac-781ad519e3b2",
   "metadata": {},
   "source": [
    "Ans(i) It is use for division,and it give float number after division.\n",
    "\n",
    "    Example--"
   ]
  },
  {
   "cell_type": "code",
   "execution_count": 42,
   "id": "d8d37747-eed6-46ab-a676-62e3b5270227",
   "metadata": {},
   "outputs": [
    {
     "data": {
      "text/plain": [
       "9.0"
      ]
     },
     "execution_count": 42,
     "metadata": {},
     "output_type": "execute_result"
    }
   ],
   "source": [
    "18/2"
   ]
  },
  {
   "cell_type": "code",
   "execution_count": 43,
   "id": "7b43358d-81cb-4cad-9f63-652b4fb03e12",
   "metadata": {},
   "outputs": [
    {
     "data": {
      "text/plain": [
       "45.0"
      ]
     },
     "execution_count": 43,
     "metadata": {},
     "output_type": "execute_result"
    }
   ],
   "source": [
    "225/5"
   ]
  },
  {
   "cell_type": "markdown",
   "id": "3e208102-fea1-4a0a-bd6e-c082c7e7451a",
   "metadata": {},
   "source": [
    "Que(ii) %"
   ]
  },
  {
   "cell_type": "markdown",
   "id": "413876ae-d0ad-4c67-b20a-36378cd1c6db",
   "metadata": {},
   "source": [
    "Ans(ii) It is known as reminder. \n",
    "     \n",
    "     Example--"
   ]
  },
  {
   "cell_type": "code",
   "execution_count": 44,
   "id": "8a01289f-c8bb-49bd-93d9-0eedf0bc45b3",
   "metadata": {},
   "outputs": [
    {
     "data": {
      "text/plain": [
       "1"
      ]
     },
     "execution_count": 44,
     "metadata": {},
     "output_type": "execute_result"
    }
   ],
   "source": [
    "13%2"
   ]
  },
  {
   "cell_type": "code",
   "execution_count": 45,
   "id": "4da138a6-ff9f-4d5b-953e-966789543b01",
   "metadata": {},
   "outputs": [
    {
     "data": {
      "text/plain": [
       "2"
      ]
     },
     "execution_count": 45,
     "metadata": {},
     "output_type": "execute_result"
    }
   ],
   "source": [
    "50002%25"
   ]
  },
  {
   "cell_type": "markdown",
   "id": "61fecd05-5f43-421f-98bf-e2acafa88dce",
   "metadata": {},
   "source": [
    "Que(iii) //"
   ]
  },
  {
   "cell_type": "markdown",
   "id": "d177660d-80b1-45f5-b86e-24061c4c21f9",
   "metadata": {},
   "source": [
    "Ans(iii) It is also use for division,but it do not give float number.\n",
    "      \n",
    "      Example---"
   ]
  },
  {
   "cell_type": "code",
   "execution_count": 46,
   "id": "129569b1-d288-4a54-a031-1558980d0c21",
   "metadata": {},
   "outputs": [
    {
     "data": {
      "text/plain": [
       "9"
      ]
     },
     "execution_count": 46,
     "metadata": {},
     "output_type": "execute_result"
    }
   ],
   "source": [
    "18//2"
   ]
  },
  {
   "cell_type": "code",
   "execution_count": 47,
   "id": "2c65ea0b-6508-493d-8713-e4fc815bd298",
   "metadata": {},
   "outputs": [
    {
     "data": {
      "text/plain": [
       "20"
      ]
     },
     "execution_count": 47,
     "metadata": {},
     "output_type": "execute_result"
    }
   ],
   "source": [
    "500//25"
   ]
  },
  {
   "cell_type": "markdown",
   "id": "976516fc-0052-44e2-8cf6-f7597f9291c2",
   "metadata": {},
   "source": [
    "Que(iv) **"
   ]
  },
  {
   "cell_type": "markdown",
   "id": "33d99384-2458-4e73-8d94-8dfd76177602",
   "metadata": {},
   "source": [
    "Ans(iv) It is known as exponentiation.\n",
    "\n",
    "     Example--"
   ]
  },
  {
   "cell_type": "code",
   "execution_count": 48,
   "id": "a3cdca95-8c5c-4787-af3a-9bd099bd7584",
   "metadata": {},
   "outputs": [
    {
     "data": {
      "text/plain": [
       "20736"
      ]
     },
     "execution_count": 48,
     "metadata": {},
     "output_type": "execute_result"
    }
   ],
   "source": [
    "12**4"
   ]
  },
  {
   "cell_type": "code",
   "execution_count": 49,
   "id": "698397b9-df84-4d61-a8fc-16a2c5fcf024",
   "metadata": {},
   "outputs": [
    {
     "data": {
      "text/plain": [
       "8"
      ]
     },
     "execution_count": 49,
     "metadata": {},
     "output_type": "execute_result"
    }
   ],
   "source": [
    "2**3"
   ]
  },
  {
   "cell_type": "markdown",
   "id": "3ff6765f-aa43-43a4-8e53-031229b27b85",
   "metadata": {},
   "source": [
    "Que(4).Create a list of length 10 of your choice containing multiple\n",
    "    type of data.Using for loop print the element and it data type."
   ]
  },
  {
   "cell_type": "markdown",
   "id": "cf65f0de-ae27-4ed6-a4cd-718e65b7463f",
   "metadata": {},
   "source": [
    "Ans(4)--"
   ]
  },
  {
   "cell_type": "markdown",
   "id": "6b8c207b-ce40-4d37-8702-75ffea945ca9",
   "metadata": {},
   "source": [
    "l=[1,2,3,(\"Abhi\",\"Kundan\"),[1,2,3],2.3,\"Amit\",4.5,90,\"Shriram\"]"
   ]
  },
  {
   "cell_type": "code",
   "execution_count": 61,
   "id": "7de70243-3b70-479f-9766-f66948cb0f70",
   "metadata": {},
   "outputs": [
    {
     "data": {
      "text/plain": [
       "10"
      ]
     },
     "execution_count": 61,
     "metadata": {},
     "output_type": "execute_result"
    }
   ],
   "source": [
    "len(l)"
   ]
  },
  {
   "cell_type": "code",
   "execution_count": 62,
   "id": "53371ec6-ad82-478c-8a89-f42517474cba",
   "metadata": {},
   "outputs": [
    {
     "name": "stdout",
     "output_type": "stream",
     "text": [
      "1\n",
      "<class 'int'>\n",
      "2\n",
      "<class 'int'>\n",
      "3\n",
      "<class 'int'>\n",
      "('Abhi', 'Kundan')\n",
      "<class 'tuple'>\n",
      "[1, 2, 3]\n",
      "<class 'list'>\n",
      "2.3\n",
      "<class 'float'>\n",
      "Amit\n",
      "<class 'str'>\n",
      "4.5\n",
      "<class 'float'>\n",
      "90\n",
      "<class 'int'>\n",
      "Shriram\n",
      "<class 'str'>\n"
     ]
    }
   ],
   "source": [
    "for i in l:\n",
    "    print(i)\n",
    "    print(type(i))"
   ]
  },
  {
   "cell_type": "markdown",
   "id": "27b5d35b-ecc6-4405-985a-f67134e4f253",
   "metadata": {},
   "source": [
    "Que(5).Using a while loop,verify if the number A is purely divisible by number B and if so then how many time it can be divisible."
   ]
  },
  {
   "cell_type": "markdown",
   "id": "4a067484-7576-4d9d-b6bd-131130750cac",
   "metadata": {},
   "source": [
    "Ans(5)-- "
   ]
  },
  {
   "cell_type": "code",
   "execution_count": 4,
   "id": "b26fe3c9-eb2d-4267-a12c-7e996a41da84",
   "metadata": {},
   "outputs": [
    {
     "ename": "IndentationError",
     "evalue": "unexpected indent (1285065469.py, line 3)",
     "output_type": "error",
     "traceback": [
      "\u001b[0;36m  Cell \u001b[0;32mIn[4], line 3\u001b[0;36m\u001b[0m\n\u001b[0;31m    while A//B\u001b[0m\n\u001b[0m    ^\u001b[0m\n\u001b[0;31mIndentationError\u001b[0m\u001b[0;31m:\u001b[0m unexpected indent\n"
     ]
    }
   ],
   "source": [
    "A=int(input(\"Enter number A:\"))\n",
    "B=int(input(\"Enter number B:\"))\n",
    "    \n"
   ]
  },
  {
   "cell_type": "markdown",
   "id": "865f15cb-d9bd-46b3-a57b-9d7009e4f1c2",
   "metadata": {},
   "source": [
    "Que(6).Create list containing 25 int type data.Using for loop and if-else condition print if the element is divisible by 3 or not."
   ]
  },
  {
   "cell_type": "markdown",
   "id": "cb8cf548-2b4d-4cc5-b3a4-647cd92cd480",
   "metadata": {},
   "source": [
    "Ans(6)-- "
   ]
  },
  {
   "cell_type": "code",
   "execution_count": 19,
   "id": "fcc1da0d-e397-4e3d-accd-9d9b222eb61a",
   "metadata": {},
   "outputs": [
    {
     "name": "stdout",
     "output_type": "stream",
     "text": [
      "3\n",
      "6\n",
      "9\n",
      "12\n",
      "15\n",
      "18\n",
      "21\n",
      "24\n",
      "24\n"
     ]
    }
   ],
   "source": [
    "l=[1,2,3,4,5,6,7,8,9,10,11,12,13,14,15,16,17,18,19,20,21,22,23,24,24,25]\n",
    "for i in l:\n",
    "    if i%3==0:\n",
    "        print(i)\n",
    "    \n",
    "    "
   ]
  },
  {
   "cell_type": "markdown",
   "id": "666365a6-0fa0-46ad-b0b7-6155e31e9f31",
   "metadata": {},
   "source": [
    "Que(7).What do you understand about mutable and immutable data type? Give example for both showing this property."
   ]
  },
  {
   "cell_type": "markdown",
   "id": "ac674471-27b9-4d85-b77a-7e72ca4de294",
   "metadata": {},
   "source": [
    "Ans(7) --"
   ]
  },
  {
   "cell_type": "markdown",
   "id": "47790aab-c649-42f3-9ac2-423f04ac6958",
   "metadata": {},
   "source": [
    "Mutable-Mutable means where we can change the value \n",
    "\n",
    "        Example--"
   ]
  },
  {
   "cell_type": "code",
   "execution_count": 20,
   "id": "f3aaf9ec-9c43-4d54-aea4-899d0f791533",
   "metadata": {},
   "outputs": [],
   "source": [
    "l=[1,2,3,4,56,\"abhishek\",\"prajapati\"] # list"
   ]
  },
  {
   "cell_type": "code",
   "execution_count": 21,
   "id": "870cbb1f-1ef0-4901-9d7d-e1a569d00abc",
   "metadata": {},
   "outputs": [],
   "source": [
    "l[-1]=2"
   ]
  },
  {
   "cell_type": "code",
   "execution_count": 22,
   "id": "caf6fc7a-2212-4389-ad03-9b86b1fcf156",
   "metadata": {},
   "outputs": [
    {
     "data": {
      "text/plain": [
       "[1, 2, 3, 4, 56, 'abhishek', 2]"
      ]
     },
     "execution_count": 22,
     "metadata": {},
     "output_type": "execute_result"
    }
   ],
   "source": [
    "l"
   ]
  },
  {
   "cell_type": "code",
   "execution_count": 25,
   "id": "791f8757-59ce-4b1f-a289-997116506f3d",
   "metadata": {},
   "outputs": [],
   "source": [
    "# In list we change the value of \"prajapati\" with 2\n",
    " # so therefore list is known as mutable\n",
    "#  (set, dictionary ,list ) all are known as mutable"
   ]
  },
  {
   "cell_type": "markdown",
   "id": "0e1d6de5-4565-446f-b010-7e7492c17380",
   "metadata": {},
   "source": []
  },
  {
   "cell_type": "markdown",
   "id": "9b57bb83-2e79-4909-9cac-71bc789a6b75",
   "metadata": {},
   "source": [
    "Immutable-Immutable type are those we can never change there plaace and value. \n",
    "\n",
    "   Example--"
   ]
  },
  {
   "cell_type": "code",
   "execution_count": 29,
   "id": "66dfa9e6-eb25-4faf-85de-ecf365498658",
   "metadata": {},
   "outputs": [
    {
     "ename": "TypeError",
     "evalue": "'tuple' object does not support item assignment",
     "output_type": "error",
     "traceback": [
      "\u001b[0;31m---------------------------------------------------------------------------\u001b[0m",
      "\u001b[0;31mTypeError\u001b[0m                                 Traceback (most recent call last)",
      "Cell \u001b[0;32mIn[29], line 2\u001b[0m\n\u001b[1;32m      1\u001b[0m t\u001b[38;5;241m=\u001b[39m(\u001b[38;5;241m1\u001b[39m,\u001b[38;5;241m2\u001b[39m,\u001b[38;5;241m34\u001b[39m,\u001b[38;5;241m12.2\u001b[39m,\u001b[38;5;124m\"\u001b[39m\u001b[38;5;124mAbhishek\u001b[39m\u001b[38;5;124m\"\u001b[39m,\u001b[38;5;124m\"\u001b[39m\u001b[38;5;124mamit\u001b[39m\u001b[38;5;124m\"\u001b[39m,\u001b[38;5;28;01mTrue\u001b[39;00m,\u001b[38;5;28;01mFalse\u001b[39;00m)   \u001b[38;5;66;03m#tuple\u001b[39;00m\n\u001b[0;32m----> 2\u001b[0m \u001b[43mt\u001b[49m\u001b[43m[\u001b[49m\u001b[38;5;241;43m-\u001b[39;49m\u001b[38;5;241;43m3\u001b[39;49m\u001b[43m]\u001b[49m\u001b[38;5;241m=\u001b[39m\u001b[38;5;124m\"\u001b[39m\u001b[38;5;124mKundan\u001b[39m\u001b[38;5;124m\"\u001b[39m\n",
      "\u001b[0;31mTypeError\u001b[0m: 'tuple' object does not support item assignment"
     ]
    }
   ],
   "source": [
    "t=(1,2,34,12.2,\"Abhishek\",\"amit\",True,False)   #tuple\n",
    "t[-3]=\"Kundan\""
   ]
  },
  {
   "cell_type": "code",
   "execution_count": 30,
   "id": "ec870e47-7489-43b7-b9f4-a39f4986bcf7",
   "metadata": {},
   "outputs": [],
   "source": [
    "# In tuple give us error beacause tuple is immutable.\n",
    "#( integer,String,floating point number,tuple,boolians,)this all are known as immutable type.\n"
   ]
  },
  {
   "cell_type": "code",
   "execution_count": null,
   "id": "091a2cf2-f9af-4849-a8ba-049d088bb13f",
   "metadata": {},
   "outputs": [],
   "source": []
  }
 ],
 "metadata": {
  "kernelspec": {
   "display_name": "Python 3 (ipykernel)",
   "language": "python",
   "name": "python3"
  },
  "language_info": {
   "codemirror_mode": {
    "name": "ipython",
    "version": 3
   },
   "file_extension": ".py",
   "mimetype": "text/x-python",
   "name": "python",
   "nbconvert_exporter": "python",
   "pygments_lexer": "ipython3",
   "version": "3.10.8"
  }
 },
 "nbformat": 4,
 "nbformat_minor": 5
}
